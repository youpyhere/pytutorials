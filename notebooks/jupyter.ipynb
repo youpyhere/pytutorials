{
 "cells": [
  {
   "cell_type": "markdown",
   "id": "15cc50a9",
   "metadata": {},
   "source": [
    "### 📘 **Welcome to Your First Notebook**\n",
    "\n",
    "<span style=\"color:slateblue\"><strong>This notebook is a hands-on introduction to using Jupyter Notebooks for data analysis.</strong></span>  \n",
    "You'll learn how to run code, explore data, write notes, and understand the interface along the way.\n",
    "\n",
    "This text you're reading is in a **cell**, specifically a **Markdown cell** — used to write formatted text, explanations, and notes. Instead of using buttons or menus, you add simple symbols (like `#`, `*`, or `[]`) to control how the text appears.  \n",
    "\n",
    "[**Learn about Markdown by here**](https://www.markdownguide.org/)    \n",
    "\n",
    "You can **see the cell type** in the bottom-right corner — it will say `\"Markdown\"` or `\"Code\"`. By pressing `Shift` `+` `Enter` to **render** the Markdown. Double-click the cell to go back into **edit mode** and make changes."
   ]
  },
  {
   "cell_type": "code",
   "execution_count": null,
   "id": "d2a3fb01",
   "metadata": {},
   "outputs": [],
   "source": [
    "#  !!!!!  Time to Code  !!!!\n",
    "#\n",
    "# This is a code cell — a place to write and run Python code.\n",
    "# You'll notice in the bottom-right corner of this cell it says \"Python\",\n",
    "# which tells you it's a code cell using the Python language kernel.\n",
    "# Try running this cell by clicking inside it and pressing Shift + Enter.\n",
    "# You’ll see the result printed below.\n",
    "\n",
    "print(\"Hello, Jupyter!\")"
   ]
  },
  {
   "cell_type": "markdown",
   "id": "f547f2f6",
   "metadata": {},
   "source": [
    "## Organizing Your Analysis\n",
    "\n",
    "One of the strengths of Jupyter Notebooks is how you can break your work into <span style=\"color:darkblue\"><strong>clear, logical steps</strong></span> using cells.\n",
    "\n",
    "Think of each **code cell** as a single action or idea:  \n",
    "- 📥 Load your data in one cell  \n",
    "- 🔍 Explore it in another  \n",
    "- 📊 Visualize or transform it in the next  \n",
    "\n",
    "This structure makes your analysis easier to <span style=\"color:darkgreen\"><strong>follow, debug, and share</strong></span> — whether you're revisiting it later or handing it off to someone else.\n",
    "\n",
    "---\n",
    "\n",
    "In between code, use **Markdown cells** to capture your  \n",
    "<span style=\"color:#8B008B\"><strong>thoughts, assumptions, and observations</strong></span>.\n",
    "\n",
    "This is especially helpful when:  \n",
    "- You're working through ideas and want to reflect as you go  \n",
    "- You're sharing the notebook with others  \n",
    "- You're collaborating, and want teammates to follow your reasoning  \n",
    "\n",
    "Think of it as building a <span style=\"color:firebrick\"><strong>chain of thought</strong></span> — guiding anyone reading the notebook through not just **what** you did, but **why** you did it.\n",
    "\n",
    "Insert a new cell using the **+** button. You can also use keyboard shortcuts to enhance your efficiency.   \n",
    "[Jupyter Notebook Keyboard Shortcuts Cheat Sheet](https://mljar.com/blog/jupyter-notebook-shortcuts-cheatsheet/)"
   ]
  },
  {
   "cell_type": "markdown",
   "id": "22ee1555",
   "metadata": {},
   "source": [
    "### Let's perform a simple data analysis using fake vehicle sales data to demonstrate how to break the analysis up into steps\n",
    "\n",
    "<span style=\"color:#8B008B\"><strong>How long does it typically take for a vehicle to sell after it's been wholesaled?</strong></span>\n",
    "\n",
    "We’ll look at the time difference between the **WholesaleDate** and the **SaleDate** for each vehicle in the dataset.\n",
    "\n",
    "This kind of focused question helps demonstrate the power of notebooks — we can break the problem into steps, write code to explore it, visualize the results, and document insights along the way."
   ]
  },
  {
   "cell_type": "code",
   "execution_count": null,
   "id": "be95081b",
   "metadata": {},
   "outputs": [],
   "source": [
    "# Load Vehicle Sales Data from CSV\n",
    "import pandas as pd\n",
    "\n",
    "# Load dataset from the relative path to a pandas dataframe\n",
    "df = pd.read_csv(\"../data/fake_sales_data.csv\")\n",
    "\n",
    "# Display the first few rows of the data\n",
    "df.head()"
   ]
  },
  {
   "cell_type": "markdown",
   "id": "c71ab75a",
   "metadata": {},
   "source": [
    "## Exploring the Data\n",
    "\n",
    "Now that the dataset is loaded, the next step is to get a quick overview of what you're working with.\n",
    "\n",
    "This includes:\n",
    "- Seeing how many rows and columns there are\n",
    "- Understanding what each column contains\n",
    "- Checking for missing values\n",
    "- Getting basic summary statistics\n",
    "\n",
    "These steps help you decide what to clean, analyze, or visualize — and give you a sense of the data’s overall shape and quality."
   ]
  },
  {
   "cell_type": "code",
   "execution_count": null,
   "id": "eff35cfa",
   "metadata": {},
   "outputs": [],
   "source": [
    "# Run three commands in one cell\n",
    "df.info()                \n",
    "df.describe()            \n",
    "df.isnull().sum()        "
   ]
  },
  {
   "cell_type": "markdown",
   "id": "8fefca00",
   "metadata": {},
   "source": [
    "## Understanding Output in a Code Cell\n",
    "\n",
    "In a Jupyter Notebook, only the **last expression** in a code cell will automatically display output — unless a function explicitly prints something.\n",
    "\n",
    "- `df.info()` **prints** its result to the screen, so it always shows.\n",
    "- `df.describe()` **returns** a DataFrame, but won’t display unless it’s the last line **OR** wrapped in `print()`. Like `print(df.describe()`)`\n",
    "- `df.isnull().sum()` also returns a value, and since it's the **last line**, Jupyter shows it in the output by default.\n",
    "\n",
    "To see the output of multiple commands in one cell, either:\n",
    "- Use `print()` for the ones you want to show, or\n",
    "- Split them into separate cells for clarity."
   ]
  },
  {
   "cell_type": "code",
   "execution_count": null,
   "id": "65fcc9ba",
   "metadata": {},
   "outputs": [],
   "source": [
    "# To perform the analysis we'll need to Convert the WholesaleDate and\n",
    "# SaleDate columns to datetime format as they are currently object data types\n",
    "df[\"SaleDate\"] = pd.to_datetime(df[\"SaleDate\"])\n",
    "df[\"WholesaleDate\"] = pd.to_datetime(df[\"WholesaleDate\"])\n",
    "\n",
    "# Calculate days between wholesale and sale and store the result in a new column DaysToSell\n",
    "df[\"DaysToSell\"] = (df[\"SaleDate\"] - df[\"WholesaleDate\"]).dt.days\n",
    "\n",
    "# Preview the updated DataFrame\n",
    "df[[\"SaleDate\", \"WholesaleDate\", \"DaysToSell\"]].head()"
   ]
  },
  {
   "cell_type": "markdown",
   "id": "052b02cc",
   "metadata": {},
   "source": [
    "## Fixing mistakes and Iterating\n",
    "\n",
    "One of the best things about using a notebook is that **you don’t have to get everything right on the first try**. If you make a mistake in a cell — whether it’s a typo, logic error, or wrong calculation — you can simply update the code and **re-run the cell**. You don’t need to start over or re-import your data from scratch. Your data is already in memory, and your notebook keeps track of each step as you go. **This makes it easy to experiment, test ideas, and fix issues without breaking your workflow.**\n",
    "\n",
    "Now, let's visualize our data! \n",
    "\n"
   ]
  },
  {
   "cell_type": "code",
   "execution_count": null,
   "id": "dd0f19e3",
   "metadata": {},
   "outputs": [],
   "source": [
    "# Let’s see how many vehicles were sold within different time ranges to get a \n",
    "# sense of how long cars typically take to sell.\n",
    "import matplotlib.pyplot as plt\n",
    "\n",
    "# 📊 Plot a histogram of days to sell\n",
    "plt.figure(figsize=(8, 5))\n",
    "plt.hist(df[\"DaysToSell\"], bins=20, edgecolor=\"black\")\n",
    "plt.title(\"Distribution of Days to Sell a Vehicle\")\n",
    "plt.xlabel(\"Days\")\n",
    "plt.ylabel(\"Number of Vehicles\")\n",
    "plt.grid(True)\n",
    "plt.show()"
   ]
  },
  {
   "cell_type": "code",
   "execution_count": null,
   "id": "2c4c2248",
   "metadata": {},
   "outputs": [],
   "source": [
    "# Let’s compare how long it takes to sell vehicles in each region to \n",
    "# see where cars move faster or slower.\n",
    "import seaborn as sns\n",
    "import matplotlib.pyplot as plt\n",
    "\n",
    "plt.figure(figsize=(10, 5))\n",
    "sns.boxplot(data=df, x=\"Region\", y=\"DaysToSell\")\n",
    "plt.title(\"Days to Sell by Region\")\n",
    "plt.xlabel(\"Region\")\n",
    "plt.ylabel(\"Days to Sell\")\n",
    "plt.xticks(rotation=45)\n",
    "plt.show()"
   ]
  },
  {
   "cell_type": "code",
   "execution_count": null,
   "id": "a30e371c",
   "metadata": {},
   "outputs": [],
   "source": [
    "# Let’s find out if certain times of the year are better for selling cars by \n",
    "# looking at the average days to sell across each month.\n",
    "\n",
    "# Extract month name from SaleDate\n",
    "df[\"MonthName\"] = df[\"SaleDate\"].dt.strftime(\"%B\")\n",
    "\n",
    "# Order months properly (not alphabetically)\n",
    "month_order = [\"January\", \"February\", \"March\", \"April\", \"May\", \"June\",\n",
    "               \"July\", \"August\", \"September\", \"October\", \"November\", \"December\"]\n",
    "\n",
    "# Group and plot\n",
    "monthly_avg = df.groupby(\"MonthName\")[\"DaysToSell\"].mean().reindex(month_order)\n",
    "\n",
    "monthly_avg.plot(kind=\"bar\", figsize=(10, 5), color=\"skyblue\", edgecolor=\"black\")\n",
    "plt.title(\"Average Days to Sell by Month\")\n",
    "plt.xlabel(\"Month\")\n",
    "plt.ylabel(\"Avg. Days to Sell\")\n",
    "plt.xticks(rotation=45)\n",
    "plt.grid(axis=\"y\")\n",
    "plt.show()"
   ]
  },
  {
   "cell_type": "markdown",
   "id": "2b7daf89",
   "metadata": {},
   "source": [
    "## Wrapping Up\n",
    "\n",
    "In this notebook, we explored how to use Jupyter Notebooks as both a coding environment and a storytelling tool for data analysis. We:\n",
    "- Defined a real-world question: **How long does it take to sell a vehicle after it's wholesaled?**\n",
    "- Broke the analysis into clear, repeatable steps using separate cells\n",
    "- Created a new calculated column to measure time-to-sale\n",
    "- Built visualizations to uncover patterns across regions and months\n",
    "\n",
    "This structure provides an example of notebooks: not just running code, but building a **narrative** — one that collaborators or future-you can understand, follow, and build upon. Additional steps can include adding markdown cells after the charts to describe observations. \n",
    "\n",
    "Remember, Markdown isn’t just for decoration — it's your tool for:\n",
    "- Capturing insights alongside code\n",
    "- Adding context to visualizations\n",
    "- Guiding collaborators without needing to be in the same room\n",
    "\n",
    "## Keep Learning\n",
    "\n",
    "Here are a few great resources to help you go deeper with Jupyter:\n",
    "\n",
    "- [Project Jupyter Official Site](https://jupyter.org)\n",
    "- [Jupyter Notebook Beginner’s Guide – Real Python](https://realpython.com/jupyter-notebook-introduction/)\n",
    "- [More Notebook Tutorials](https://jupyter.org/try-jupyter/notebooks/?path=notebooks/Intro.ipynb)\n",
    "\n",
    "Thanks for taking a walk on Jupyter. Hope you found this helpful.  \n",
    "**Reach out to us on DataDome if you have questions or need help!**"
   ]
  },
  {
   "cell_type": "markdown",
   "id": "1e2a4975",
   "metadata": {},
   "source": []
  }
 ],
 "metadata": {
  "kernelspec": {
   "display_name": ".pytutorials",
   "language": "python",
   "name": "python3"
  },
  "language_info": {
   "codemirror_mode": {
    "name": "ipython",
    "version": 3
   },
   "file_extension": ".py",
   "mimetype": "text/x-python",
   "name": "python",
   "nbconvert_exporter": "python",
   "pygments_lexer": "ipython3",
   "version": "3.12.4"
  }
 },
 "nbformat": 4,
 "nbformat_minor": 5
}
