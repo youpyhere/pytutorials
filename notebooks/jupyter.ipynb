{
 "cells": [
  {
   "cell_type": "markdown",
   "id": "15cc50a9",
   "metadata": {},
   "source": [
    "### 📘 **Welcome to Your First Notebook**\n",
    "\n",
    "<span style=\"color:slateblue\"><strong>This notebook is a hands-on introduction to using Jupyter Notebooks for data analysis.</strong></span>  \n",
    "You'll learn how to run code, explore data, write notes, and understand the interface along the way.\n",
    "\n",
    "This text you're reading is in a **cell**, specifically a **Markdown cell** — used to write formatted text, explanations, and notes. Instead of using buttons or menus, you add simple symbols (like `#`, `*`, or `[]`) to control how the text appears.  \n",
    "\n",
    "[**Learn about Markdown by here**](https://www.markdownguide.org/)    \n",
    "\n",
    "You can **see the cell type** in the bottom-right corner — it will say `\"Markdown\"` or `\"Code\"`. By pressing `Shift` `+` `Enter` to **render** the Markdown. Double-click the cell to go back into **edit mode** and make changes."
   ]
  },
  {
   "cell_type": "code",
   "execution_count": 1,
   "id": "d2a3fb01",
   "metadata": {},
   "outputs": [
    {
     "name": "stdout",
     "output_type": "stream",
     "text": [
      "Hello, Jupyter!\n"
     ]
    }
   ],
   "source": [
    "#  !!!!!  Time to Code  !!!!\n",
    "#\n",
    "# This is a code cell — a place to write and run Python code.\n",
    "# You'll notice in the bottom-right corner of this cell it says \"Python\",\n",
    "# which tells you it's a code cell using the Python language kernel.\n",
    "# Try running this cell by clicking inside it and pressing Shift + Enter.\n",
    "# You’ll see the result printed below.\n",
    "\n",
    "print(\"Hello, Jupyter!\")"
   ]
  },
  {
   "cell_type": "markdown",
   "id": "f547f2f6",
   "metadata": {},
   "source": [
    "## Organizing Your Analysis\n",
    "\n",
    "One of the strengths of Jupyter Notebooks is how you can break your work into <span style=\"color:darkblue\"><strong>clear, logical steps</strong></span> using cells.\n",
    "\n",
    "Think of each **code cell** as a single action or idea:  \n",
    "- 📥 Load your data in one cell  \n",
    "- 🔍 Explore it in another  \n",
    "- 📊 Visualize or transform it in the next  \n",
    "\n",
    "This structure makes your analysis easier to <span style=\"color:darkgreen\"><strong>follow, debug, and share</strong></span> — whether you're revisiting it later or handing it off to someone else.\n",
    "\n",
    "---\n",
    "\n",
    "In between code, use **Markdown cells** to capture your  \n",
    "<span style=\"color:#8B008B\"><strong>thoughts, assumptions, and observations</strong></span>.\n",
    "\n",
    "This is especially helpful when:  \n",
    "- You're working through ideas and want to reflect as you go  \n",
    "- You're sharing the notebook with others  \n",
    "- You're collaborating, and want teammates to follow your reasoning  \n",
    "\n",
    "Think of it as building a <span style=\"color:firebrick\"><strong>chain of thought</strong></span> — guiding anyone reading the notebook through not just **what** you did, but **why** you did it.\n",
    "\n",
    "Insert a new cell using the **+** button. You can also use keyboard shortcuts to enhance your efficiency.   \n",
    "[Jupyter Notebook Keyboard Shortcuts Cheat Sheet](https://mljar.com/blog/jupyter-notebook-shortcuts-cheatsheet/)"
   ]
  },
  {
   "cell_type": "markdown",
   "id": "22ee1555",
   "metadata": {},
   "source": [
    "### Let's perform a simple data analysis using fake vehicle sales data to demonstrate how to break the analysis up into steps\n",
    "\n",
    "<span style=\"color:#8B008B\"><strong>How long does it typically take for a vehicle to sell after it's been wholesaled?</strong></span>\n",
    "\n",
    "We’ll look at the time difference between the **WholesaleDate** and the **SaleDate** for each vehicle in the dataset.\n",
    "\n",
    "This kind of focused question helps demonstrate the power of notebooks — we can break the problem into steps, write code to explore it, visualize the results, and document insights along the way."
   ]
  },
  {
   "cell_type": "code",
   "execution_count": null,
   "id": "be95081b",
   "metadata": {},
   "outputs": [
    {
     "data": {
      "application/vnd.microsoft.datawrangler.viewer.v0+json": {
       "columns": [
        {
         "name": "index",
         "rawType": "int64",
         "type": "integer"
        },
        {
         "name": "Model",
         "rawType": "object",
         "type": "string"
        },
        {
         "name": "Trim",
         "rawType": "object",
         "type": "string"
        },
        {
         "name": "Color",
         "rawType": "object",
         "type": "string"
        },
        {
         "name": "Year",
         "rawType": "int64",
         "type": "integer"
        },
        {
         "name": "SaleDate",
         "rawType": "object",
         "type": "string"
        },
        {
         "name": "WholesaleDate",
         "rawType": "object",
         "type": "string"
        },
        {
         "name": "MSRP",
         "rawType": "int64",
         "type": "integer"
        },
        {
         "name": "SalePrice",
         "rawType": "int64",
         "type": "integer"
        },
        {
         "name": "Region",
         "rawType": "object",
         "type": "string"
        },
        {
         "name": "Dealer",
         "rawType": "object",
         "type": "string"
        },
        {
         "name": "VIN",
         "rawType": "object",
         "type": "string"
        }
       ],
       "conversionMethod": "pd.DataFrame",
       "ref": "4fad8732-b4f3-4fa2-bea7-43049d964e3a",
       "rows": [
        [
         "0",
         "Prius",
         "Limited",
         "Black",
         "2018",
         "2020-02-29",
         "2022-11-08",
         "24798",
         "26696",
         "South",
         "Dealer_3",
         "JT778346"
        ],
        [
         "1",
         "Corolla",
         "Limited",
         "Green",
         "2013",
         "2023-06-11",
         "2023-11-11",
         "47504",
         "24775",
         "South",
         "Dealer_31",
         "JT138801"
        ],
        [
         "2",
         "Corolla",
         "XSE",
         "Gray",
         "2020",
         "2021-02-08",
         "2021-08-30",
         "22032",
         "25510",
         "South",
         "Dealer_47",
         "JT311802"
        ],
        [
         "3",
         "Prius",
         "XSE",
         "Black",
         "2013",
         "2022-07-09",
         "2022-03-18",
         "42629",
         "24644",
         "East",
         "Dealer_50",
         "JT267099"
        ],
        [
         "4",
         "RAV4",
         "XSE",
         "Blue",
         "2010",
         "2023-04-27",
         "2023-12-11",
         "45701",
         "45359",
         "West",
         "Dealer_33",
         "JT385959"
        ]
       ],
       "shape": {
        "columns": 11,
        "rows": 5
       }
      },
      "text/html": [
       "<div>\n",
       "<style scoped>\n",
       "    .dataframe tbody tr th:only-of-type {\n",
       "        vertical-align: middle;\n",
       "    }\n",
       "\n",
       "    .dataframe tbody tr th {\n",
       "        vertical-align: top;\n",
       "    }\n",
       "\n",
       "    .dataframe thead th {\n",
       "        text-align: right;\n",
       "    }\n",
       "</style>\n",
       "<table border=\"1\" class=\"dataframe\">\n",
       "  <thead>\n",
       "    <tr style=\"text-align: right;\">\n",
       "      <th></th>\n",
       "      <th>Model</th>\n",
       "      <th>Trim</th>\n",
       "      <th>Color</th>\n",
       "      <th>Year</th>\n",
       "      <th>SaleDate</th>\n",
       "      <th>WholesaleDate</th>\n",
       "      <th>MSRP</th>\n",
       "      <th>SalePrice</th>\n",
       "      <th>Region</th>\n",
       "      <th>Dealer</th>\n",
       "      <th>VIN</th>\n",
       "    </tr>\n",
       "  </thead>\n",
       "  <tbody>\n",
       "    <tr>\n",
       "      <th>0</th>\n",
       "      <td>Prius</td>\n",
       "      <td>Limited</td>\n",
       "      <td>Black</td>\n",
       "      <td>2018</td>\n",
       "      <td>2020-02-29</td>\n",
       "      <td>2022-11-08</td>\n",
       "      <td>24798</td>\n",
       "      <td>26696</td>\n",
       "      <td>South</td>\n",
       "      <td>Dealer_3</td>\n",
       "      <td>JT778346</td>\n",
       "    </tr>\n",
       "    <tr>\n",
       "      <th>1</th>\n",
       "      <td>Corolla</td>\n",
       "      <td>Limited</td>\n",
       "      <td>Green</td>\n",
       "      <td>2013</td>\n",
       "      <td>2023-06-11</td>\n",
       "      <td>2023-11-11</td>\n",
       "      <td>47504</td>\n",
       "      <td>24775</td>\n",
       "      <td>South</td>\n",
       "      <td>Dealer_31</td>\n",
       "      <td>JT138801</td>\n",
       "    </tr>\n",
       "    <tr>\n",
       "      <th>2</th>\n",
       "      <td>Corolla</td>\n",
       "      <td>XSE</td>\n",
       "      <td>Gray</td>\n",
       "      <td>2020</td>\n",
       "      <td>2021-02-08</td>\n",
       "      <td>2021-08-30</td>\n",
       "      <td>22032</td>\n",
       "      <td>25510</td>\n",
       "      <td>South</td>\n",
       "      <td>Dealer_47</td>\n",
       "      <td>JT311802</td>\n",
       "    </tr>\n",
       "    <tr>\n",
       "      <th>3</th>\n",
       "      <td>Prius</td>\n",
       "      <td>XSE</td>\n",
       "      <td>Black</td>\n",
       "      <td>2013</td>\n",
       "      <td>2022-07-09</td>\n",
       "      <td>2022-03-18</td>\n",
       "      <td>42629</td>\n",
       "      <td>24644</td>\n",
       "      <td>East</td>\n",
       "      <td>Dealer_50</td>\n",
       "      <td>JT267099</td>\n",
       "    </tr>\n",
       "    <tr>\n",
       "      <th>4</th>\n",
       "      <td>RAV4</td>\n",
       "      <td>XSE</td>\n",
       "      <td>Blue</td>\n",
       "      <td>2010</td>\n",
       "      <td>2023-04-27</td>\n",
       "      <td>2023-12-11</td>\n",
       "      <td>45701</td>\n",
       "      <td>45359</td>\n",
       "      <td>West</td>\n",
       "      <td>Dealer_33</td>\n",
       "      <td>JT385959</td>\n",
       "    </tr>\n",
       "  </tbody>\n",
       "</table>\n",
       "</div>"
      ],
      "text/plain": [
       "     Model     Trim  Color  Year    SaleDate WholesaleDate   MSRP  SalePrice  \\\n",
       "0    Prius  Limited  Black  2018  2020-02-29    2022-11-08  24798      26696   \n",
       "1  Corolla  Limited  Green  2013  2023-06-11    2023-11-11  47504      24775   \n",
       "2  Corolla      XSE   Gray  2020  2021-02-08    2021-08-30  22032      25510   \n",
       "3    Prius      XSE  Black  2013  2022-07-09    2022-03-18  42629      24644   \n",
       "4     RAV4      XSE   Blue  2010  2023-04-27    2023-12-11  45701      45359   \n",
       "\n",
       "  Region     Dealer       VIN  \n",
       "0  South   Dealer_3  JT778346  \n",
       "1  South  Dealer_31  JT138801  \n",
       "2  South  Dealer_47  JT311802  \n",
       "3   East  Dealer_50  JT267099  \n",
       "4   West  Dealer_33  JT385959  "
      ]
     },
     "execution_count": 3,
     "metadata": {},
     "output_type": "execute_result"
    }
   ],
   "source": [
    "# Load Vehicle Sales Data from CSV\n",
    "import pandas as pd\n",
    "\n",
    "# Load dataset from the relative path to a pandas dataframe\n",
    "df = pd.read_csv(\"../data/fake_sales_data.csv\")\n",
    "\n",
    "# Display the first few rows of the data\n",
    "df.head()"
   ]
  },
  {
   "cell_type": "markdown",
   "id": "c71ab75a",
   "metadata": {},
   "source": [
    "## Exploring the Data\n",
    "\n",
    "Now that the dataset is loaded, the next step is to get a quick overview of what you're working with.\n",
    "\n",
    "This includes:\n",
    "- Seeing how many rows and columns there are\n",
    "- Understanding what each column contains\n",
    "- Checking for missing values\n",
    "- Getting basic summary statistics\n",
    "\n",
    "These steps help you decide what to clean, analyze, or visualize — and give you a sense of the data’s overall shape and quality."
   ]
  },
  {
   "cell_type": "code",
   "execution_count": null,
   "id": "eff35cfa",
   "metadata": {},
   "outputs": [
    {
     "name": "stdout",
     "output_type": "stream",
     "text": [
      "<class 'pandas.core.frame.DataFrame'>\n",
      "RangeIndex: 1000 entries, 0 to 999\n",
      "Data columns (total 11 columns):\n",
      " #   Column         Non-Null Count  Dtype \n",
      "---  ------         --------------  ----- \n",
      " 0   Model          1000 non-null   object\n",
      " 1   Trim           1000 non-null   object\n",
      " 2   Color          1000 non-null   object\n",
      " 3   Year           1000 non-null   int64 \n",
      " 4   SaleDate       1000 non-null   object\n",
      " 5   WholesaleDate  1000 non-null   object\n",
      " 6   MSRP           1000 non-null   int64 \n",
      " 7   SalePrice      1000 non-null   int64 \n",
      " 8   Region         1000 non-null   object\n",
      " 9   Dealer         1000 non-null   object\n",
      " 10  VIN            1000 non-null   object\n",
      "dtypes: int64(3), object(8)\n",
      "memory usage: 86.1+ KB\n"
     ]
    },
    {
     "data": {
      "text/plain": [
       "Model            0\n",
       "Trim             0\n",
       "Color            0\n",
       "Year             0\n",
       "SaleDate         0\n",
       "WholesaleDate    0\n",
       "MSRP             0\n",
       "SalePrice        0\n",
       "Region           0\n",
       "Dealer           0\n",
       "VIN              0\n",
       "dtype: int64"
      ]
     },
     "execution_count": 9,
     "metadata": {},
     "output_type": "execute_result"
    }
   ],
   "source": [
    "# Run three commands in one cell\n",
    "\n",
    "df.info()                \n",
    "df.describe()            \n",
    "df.isnull().sum()        "
   ]
  },
  {
   "cell_type": "markdown",
   "id": "8fefca00",
   "metadata": {},
   "source": [
    "## Understanding Output in a Code Cell\n",
    "\n",
    "In a Jupyter Notebook, only the **last expression** in a code cell will automatically display output — unless a function explicitly prints something.\n",
    "\n",
    "- `df.info()` **prints** its result to the screen, so it always shows.\n",
    "- `df.describe()` **returns** a DataFrame, but won’t display unless it’s the last line **OR** wrapped in `print()`. Like `print(df.describe()`)`\n",
    "- `df.isnull().sum()` also returns a value, and since it's the **last line**, Jupyter shows it in the output by default.\n",
    "\n",
    "To see the output of multiple commands in one cell, either:\n",
    "- Use `print()` for the ones you want to show, or\n",
    "- Split them into separate cells for clarity."
   ]
  },
  {
   "cell_type": "code",
   "execution_count": 11,
   "id": "65fcc9ba",
   "metadata": {},
   "outputs": [
    {
     "data": {
      "application/vnd.microsoft.datawrangler.viewer.v0+json": {
       "columns": [
        {
         "name": "index",
         "rawType": "int64",
         "type": "integer"
        },
        {
         "name": "SaleDate",
         "rawType": "datetime64[ns]",
         "type": "datetime"
        },
        {
         "name": "WholesaleDate",
         "rawType": "datetime64[ns]",
         "type": "datetime"
        },
        {
         "name": "DaysToSell",
         "rawType": "int64",
         "type": "integer"
        }
       ],
       "conversionMethod": "pd.DataFrame",
       "ref": "2c0cf509-01fe-4270-845e-ec033ef4900d",
       "rows": [
        [
         "0",
         "2020-02-29 00:00:00",
         "2022-11-08 00:00:00",
         "-983"
        ],
        [
         "1",
         "2023-06-11 00:00:00",
         "2023-11-11 00:00:00",
         "-153"
        ],
        [
         "2",
         "2021-02-08 00:00:00",
         "2021-08-30 00:00:00",
         "-203"
        ],
        [
         "3",
         "2022-07-09 00:00:00",
         "2022-03-18 00:00:00",
         "113"
        ],
        [
         "4",
         "2023-04-27 00:00:00",
         "2023-12-11 00:00:00",
         "-228"
        ]
       ],
       "shape": {
        "columns": 3,
        "rows": 5
       }
      },
      "text/html": [
       "<div>\n",
       "<style scoped>\n",
       "    .dataframe tbody tr th:only-of-type {\n",
       "        vertical-align: middle;\n",
       "    }\n",
       "\n",
       "    .dataframe tbody tr th {\n",
       "        vertical-align: top;\n",
       "    }\n",
       "\n",
       "    .dataframe thead th {\n",
       "        text-align: right;\n",
       "    }\n",
       "</style>\n",
       "<table border=\"1\" class=\"dataframe\">\n",
       "  <thead>\n",
       "    <tr style=\"text-align: right;\">\n",
       "      <th></th>\n",
       "      <th>SaleDate</th>\n",
       "      <th>WholesaleDate</th>\n",
       "      <th>DaysToSell</th>\n",
       "    </tr>\n",
       "  </thead>\n",
       "  <tbody>\n",
       "    <tr>\n",
       "      <th>0</th>\n",
       "      <td>2020-02-29</td>\n",
       "      <td>2022-11-08</td>\n",
       "      <td>-983</td>\n",
       "    </tr>\n",
       "    <tr>\n",
       "      <th>1</th>\n",
       "      <td>2023-06-11</td>\n",
       "      <td>2023-11-11</td>\n",
       "      <td>-153</td>\n",
       "    </tr>\n",
       "    <tr>\n",
       "      <th>2</th>\n",
       "      <td>2021-02-08</td>\n",
       "      <td>2021-08-30</td>\n",
       "      <td>-203</td>\n",
       "    </tr>\n",
       "    <tr>\n",
       "      <th>3</th>\n",
       "      <td>2022-07-09</td>\n",
       "      <td>2022-03-18</td>\n",
       "      <td>113</td>\n",
       "    </tr>\n",
       "    <tr>\n",
       "      <th>4</th>\n",
       "      <td>2023-04-27</td>\n",
       "      <td>2023-12-11</td>\n",
       "      <td>-228</td>\n",
       "    </tr>\n",
       "  </tbody>\n",
       "</table>\n",
       "</div>"
      ],
      "text/plain": [
       "    SaleDate WholesaleDate  DaysToSell\n",
       "0 2020-02-29    2022-11-08        -983\n",
       "1 2023-06-11    2023-11-11        -153\n",
       "2 2021-02-08    2021-08-30        -203\n",
       "3 2022-07-09    2022-03-18         113\n",
       "4 2023-04-27    2023-12-11        -228"
      ]
     },
     "execution_count": 11,
     "metadata": {},
     "output_type": "execute_result"
    }
   ],
   "source": [
    "# To perform the analysis we'll need to Convert the WholesaleDate and\n",
    "# SaleDate columns to datetime format as they are currently object data types\n",
    "df[\"SaleDate\"] = pd.to_datetime(df[\"SaleDate\"])\n",
    "df[\"WholesaleDate\"] = pd.to_datetime(df[\"WholesaleDate\"])\n",
    "\n",
    "# Calculate days between wholesale and sale and store the result in a new column DaysToSell\n",
    "df[\"DaysToSell\"] = (df[\"SaleDate\"] - df[\"WholesaleDate\"]).dt.days\n",
    "\n",
    "# Preview the updated DataFrame\n",
    "df[[\"SaleDate\", \"WholesaleDate\", \"DaysToSell\"]].head()"
   ]
  },
  {
   "cell_type": "markdown",
   "id": "052b02cc",
   "metadata": {},
   "source": [
    "## Fixing mistakes and Iterating\n",
    "\n",
    "One of the best things about using a notebook is that **you don’t have to get everything right on the first try**. If you make a mistake in a cell — whether it’s a typo, logic error, or wrong calculation — you can simply update the code and **re-run the cell**. You don’t need to start over or re-import your data from scratch. Your data is already in memory, and your notebook keeps track of each step as you go. **This makes it easy to experiment, test ideas, and fix issues without breaking your workflow.**\n",
    "\n",
    "Now, let's visualize our data! \n",
    "\n"
   ]
  },
  {
   "cell_type": "code",
   "execution_count": 12,
   "id": "dd0f19e3",
   "metadata": {},
   "outputs": [
    {
     "data": {
      "image/png": "[encoded data removed]",
      "text/plain": [
       "<Figure size 800x500 with 1 Axes>"
      ]
     },
     "metadata": {},
     "output_type": "display_data"
    }
   ],
   "source": [
    "import matplotlib.pyplot as plt\n",
    "\n",
    "# 📊 Plot a histogram of days to sell\n",
    "plt.figure(figsize=(8, 5))\n",
    "plt.hist(df[\"DaysToSell\"], bins=20, edgecolor=\"black\")\n",
    "plt.title(\"Distribution of Days to Sell a Vehicle\")\n",
    "plt.xlabel(\"Days\")\n",
    "plt.ylabel(\"Number of Vehicles\")\n",
    "plt.grid(True)\n",
    "plt.show()"
   ]
  },
  {
   "cell_type": "code",
   "execution_count": null,
   "id": "7b4b2e6d",
   "metadata": {},
   "outputs": [],
   "source": []
  }
 ],
 "metadata": {
  "kernelspec": {
   "display_name": ".pytutorials",
   "language": "python",
   "name": "python3"
  },
  "language_info": {
   "codemirror_mode": {
    "name": "ipython",
    "version": 3
   },
   "file_extension": ".py",
   "mimetype": "text/x-python",
   "name": "python",
   "nbconvert_exporter": "python",
   "pygments_lexer": "ipython3",
   "version": "3.12.4"
  }
 },
 "nbformat": 4,
 "nbformat_minor": 5
}
