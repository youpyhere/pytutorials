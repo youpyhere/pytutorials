{
 "cells": [
  {
   "cell_type": "markdown",
   "id": "7cf6ca8a",
   "metadata": {},
   "source": [
    "# Introduction  \n",
    "\n",
    "<div style=\"display: flex; justify-content: space-between; align-items: flex-start; gap: 20px;\">\n",
    "\n",
    "<!-- Left column -->\n",
    "<div style=\"width: 65%;\">\n",
    "\n",
    "<span style=\"color: hotpink\"><small>Note: if you accidentally enter edit mode on a Markdown cell, press <code>Shift+Enter</code> to run and render it.</small> </span>\n",
    "\n",
    "In this notebook, we’ll walk through essential data analysis tasks using Pandas and Matplotlib, applied to a made-up vehicle sales dataset. This workflow covers loading data, inspecting it, performing aggregations, visualizing insights, and exporting results.\n",
    "\n",
    "**For demonstration purposes, each command is placed in its own cell so the output can be viewed step by step. In practice, it’s common to group related lines of code into a single cell for better readability and workflow efficiency.**\n",
    "\n",
    "</div>\n",
    "\n",
    "<!-- Right column -->\n",
    "<div style=\"width: 30%; background-color: #f0f0f0; padding: 10px; border-radius: 6px; font-size: 90%; color: #000;\">\n",
    "\n",
    "<strong>Install Dependencies:</strong><br>\n",
    "<code>pip install pandas matplotlib openpyxl</code>\n",
    "\n",
    "<p style=\"font-size: 80%; color: #555;\"><em>Note: If you're running this notebook in Binder, this step is handled automatically.</em></p>\n",
    "\n",
    "</div>\n",
    "\n",
    "</div>"
   ]
  },
  {
   "cell_type": "markdown",
   "id": "b463c27d",
   "metadata": {},
   "source": [
    "### Import Python Modules and Load the Dataset\n",
    "\n",
    "<div style=\"display: flex; justify-content: space-between; align-items: flex-start; gap: 20px;\">\n",
    "\n",
    "<!-- Left column: Instructions -->\n",
    "<div style=\"width: 65%;\">\n",
    "\n",
    "We start by importing the required Python libraries. The dataset is then loaded from a CSV file into a Pandas DataFrame — a powerful data structure that looks and behaves like a table. DataFrames are central to using Pandas and allow for easy inspection, transformation, and analysis of structured data.\n",
    "\n",
    "</div>\n",
    "\n",
    "<!-- Right column: Library descriptions -->\n",
    "<div style=\"width: 30%; background-color: #f0f0f0; padding: 10px; border-radius: 6px; font-size: 90%; color: #000;\">\n",
    "\n",
    "<strong>Library Overview</strong>\n",
    "\n",
    "<ul style=\"padding-left: 1em; margin-top: 5px;\">\n",
    "  <li><code>pandas</code>: Data manipulation and analysis</li>\n",
    "  <li><code>matplotlib</code>: Data visualization with plots and charts</li>\n",
    "  <li><code>openpyxl</code>: Read/write Excel files (.xlsx)</li>\n",
    "</ul>\n",
    "\n",
    "</div>\n",
    "\n",
    "</div>"
   ]
  },
  {
   "cell_type": "code",
   "execution_count": null,
   "id": "f5881c2a",
   "metadata": {},
   "outputs": [],
   "source": [
    "# Import the required modules\n",
    "import pandas as pd # the \"as pd\" part means we will refer to the pandas library as pd for this session\n",
    "import openpyxl\n",
    "import matplotlib.pyplot as plt"
   ]
  },
  {
   "cell_type": "code",
   "execution_count": null,
   "id": "5cd70516",
   "metadata": {},
   "outputs": [],
   "source": [
    "\n",
    "# Load the dataset into a dataframe called df\n",
    "df = pd.read_csv('../data/fake_sales_data.csv')"
   ]
  },
  {
   "cell_type": "markdown",
   "id": "f7cb068e",
   "metadata": {},
   "source": [
    "### Reading Rows\n",
    "\n",
    "To get a quick look at the data and verify that it loaded correctly, we use `.head()` to preview the first 5 rows of the DataFrame."
   ]
  },
  {
   "cell_type": "code",
   "execution_count": null,
   "id": "855cb815",
   "metadata": {},
   "outputs": [],
   "source": [
    "# Show first 5 rows\n",
    "df.head()\n",
    "\n",
    "# By default the head() method will display the first 5 rows. You can change this behavious by\n",
    "# adding an integer argument to specify the number of rows to display. ie: df.head(10).\n",
    "# Go ahead and change the code and execute. also explore the tail(), and sample() methods."
   ]
  },
  {
   "cell_type": "markdown",
   "id": "356a99f2",
   "metadata": {},
   "source": [
    "### Exploring the Dataset\n",
    "\n",
    "Before diving into analysis, we examine the dataset structure:\n",
    "- `.shape` gives us the number of rows and columns.\n",
    "- `.columns` lists all column names.\n",
    "- `.describe()` provides summary statistics for numeric columns.\n",
    "- `.dtypes` shows data types for each column, which helps in understanding how to manipulate or convert them."
   ]
  },
  {
   "cell_type": "code",
   "execution_count": null,
   "id": "91bbdb35",
   "metadata": {},
   "outputs": [],
   "source": [
    "# Dataset dimensions (rows, columns)\n",
    "df.shape\n",
    "\n",
    "# SHAPE is a property of the df dataframe. It stores information about the number of rows and columns."
   ]
  },
  {
   "cell_type": "code",
   "execution_count": null,
   "id": "149b962f",
   "metadata": {},
   "outputs": [],
   "source": [
    "# Show column names\n",
    "df.columns"
   ]
  },
  {
   "cell_type": "code",
   "execution_count": null,
   "id": "8f04cdcc",
   "metadata": {},
   "outputs": [],
   "source": [
    "# Summary statistics about the dataset\n",
    "df.describe()"
   ]
  },
  {
   "cell_type": "code",
   "execution_count": null,
   "id": "6c291aa8",
   "metadata": {},
   "outputs": [],
   "source": [
    "# Data types for each column\n",
    "df.dtypes"
   ]
  },
  {
   "cell_type": "markdown",
   "id": "50940fcb",
   "metadata": {},
   "source": [
    "### Filtering and Selecting Data\n",
    "\n",
    "Here, we perform common filtering operations:\n",
    "- Filter for vehicles sold in the year 2022 using string matching.\n",
    "- Identify rows where the Sale Price is greater than the MSRP (retail price).\n",
    "- Select specific columns (Model, Year, SalePrice) for a focused view."
   ]
  },
  {
   "cell_type": "code",
   "execution_count": null,
   "id": "7515413c",
   "metadata": {},
   "outputs": [],
   "source": [
    "# Vehicles sold in 2022\n",
    "sold_2022 = df[df['SaleDate'].str.startswith('2022')]\n",
    "\n",
    "# To access a column, use square brackets: df['SaleDate'] refers to the 'SaleDate' column in the DataFrame.\n",
    "# Adding .str allows string-based operations on each value in that column.\n",
    "# The .startswith('2022') method checks whether each date string begins with '2022'.\n",
    "\n",
    "# Display the value of sold_2022 dataframe\n",
    "sold_2022"
   ]
  },
  {
   "cell_type": "code",
   "execution_count": null,
   "id": "07b4443f",
   "metadata": {},
   "outputs": [],
   "source": [
    "# Select vehicles sold above MSRP\n",
    "above_msrp = df[df['SalePrice'] > df['MSRP']]\n",
    "above_msrp"
   ]
  },
  {
   "cell_type": "code",
   "execution_count": null,
   "id": "884c11ee",
   "metadata": {},
   "outputs": [],
   "source": [
    "# Select specific columns\n",
    "subset = df[['Model', 'Year', 'SalePrice']]\n",
    "subset"
   ]
  },
  {
   "cell_type": "markdown",
   "id": "e46caad5",
   "metadata": {},
   "source": [
    "### Aggregation and Grouping\n",
    "\n",
    "To summarize data, we use `.groupby()`:\n",
    "- Calculate the average Sale Price for each vehicle model.\n",
    "- Compute total sales by region.\n",
    "- Determine the average MSRP by Year and Trim level combinations.\n",
    "These operations help identify trends and compare across categories."
   ]
  },
  {
   "cell_type": "code",
   "execution_count": null,
   "id": "9d6e4f8a",
   "metadata": {},
   "outputs": [],
   "source": [
    "# Calculate the average SalePrice for each vehicle Model \n",
    "avg_price_model = df.groupby('Model')[['SalePrice']].mean()\n",
    "\n",
    "# df.groupby('Model') groups the data by each unique value in the 'Model' column.\n",
    "# [['SalePrice']] (note the double brackets) selects the column as a DataFrame vs a Series.\n",
    "# .mean() computes the average sale price for each model group.\n",
    "# The result is a DataFrame with 'Model' as the index and 'SalePrice' as the column.\n",
    "\n",
    "avg_price_model"
   ]
  },
  {
   "cell_type": "code",
   "execution_count": null,
   "id": "775aefbc",
   "metadata": {},
   "outputs": [],
   "source": [
    "# Total sales per region\n",
    "sales_by_region = df.groupby('Region')[['SalePrice']].sum()\n",
    "sales_by_region"
   ]
  },
  {
   "cell_type": "code",
   "execution_count": null,
   "id": "c5075337",
   "metadata": {},
   "outputs": [],
   "source": [
    "# Mean MSRP by Year and Trim\n",
    "avg_msrp = df.groupby(['Year', 'Trim'])[['MSRP']].mean()\n",
    "avg_msrp"
   ]
  },
  {
   "cell_type": "markdown",
   "id": "98fcb1ee",
   "metadata": {},
   "source": [
    "### Data Visualization\n",
    "\n",
    "Visualization is key for understanding data:\n",
    "- A histogram shows the distribution of vehicle sale prices.\n",
    "- A bar chart compares average sale prices across different models.\n",
    "These plots use Matplotlib, one of Python’s most popular plotting libraries."
   ]
  },
  {
   "cell_type": "code",
   "execution_count": null,
   "id": "74346403",
   "metadata": {},
   "outputs": [],
   "source": [
    "# Average Sale Price per Model\n",
    "df.groupby('Model')[['SalePrice']].mean().plot(kind='bar')  # Group by Model, calculate average SalePrice, and plot as bar chart\n",
    "plt.title('Average Sale Price by Model')                    # Set chart title\n",
    "plt.ylabel('Sale Price')                                    # Label y-axis\n",
    "plt.xticks(rotation=45)                                     # Rotate x-axis labels for better readability\n",
    "plt.tight_layout()                                          # Adjust layout to prevent label clipping\n",
    "plt.show()                                                  # Display the plot\n",
    "\n",
    "# Histogram of Sale Prices\n",
    "df['SalePrice'].hist(bins=30)\n",
    "plt.title('Distribution of Sale Prices')\n",
    "plt.xlabel('Sale Price')\n",
    "plt.ylabel('Frequency')\n",
    "plt.show()\n"
   ]
  },
  {
   "cell_type": "markdown",
   "id": "8b56de4c",
   "metadata": {},
   "source": [
    "### Exporting Data\n",
    "\n",
    "Finally, we export a selected subset of the DataFrame:\n",
    "- Save as a CSV file using `.to_csv()`.\n",
    "- Save as an Excel file using `.to_excel()` with `openpyxl` as the engine.\n",
    "These steps are essential for sharing results or further analysis in other tools like Excel."
   ]
  },
  {
   "cell_type": "code",
   "execution_count": null,
   "id": "7ccef05f",
   "metadata": {},
   "outputs": [],
   "source": [
    "# create a dataframe with specific columns \n",
    "selected_columns = df[['Model', 'Year', 'SalePrice', 'Region']]"
   ]
  },
  {
   "cell_type": "code",
   "execution_count": null,
   "id": "b61f9cb3",
   "metadata": {},
   "outputs": [],
   "source": [
    "# Export to CSV\n",
    "selected_columns.to_csv('selected_vehicle_data.csv', index=False)"
   ]
  },
  {
   "cell_type": "code",
   "execution_count": null,
   "id": "2f2634fa",
   "metadata": {},
   "outputs": [],
   "source": [
    "# Export to Excel\n",
    "selected_columns.to_excel('selected_vehicle_data.xlsx', index=False, engine='openpyxl')"
   ]
  },
  {
   "cell_type": "markdown",
   "id": "261db1a4",
   "metadata": {},
   "source": [
    "### If you’re running this notebook in Binder, the exported files (e.g., via to_csv() or to_excel()) are saved in the temporary online environment tied to your current session. To download them to your local machine, run the commands below after the export step—this will create clickable download links within the notebook."
   ]
  },
  {
   "cell_type": "code",
   "execution_count": null,
   "id": "2c12a79f",
   "metadata": {},
   "outputs": [],
   "source": [
    "from IPython.display import FileLink, display\n",
    "\n",
    "display(FileLink('selected_vehicle_data.csv'))\n",
    "display(FileLink('selected_vehicle_data.xlsx'))\n"
   ]
  },
  {
   "cell_type": "markdown",
   "id": "e1a30955",
   "metadata": {},
   "source": [
    "# Congratulations!\n",
    "You’ve reached the end of this Pandas tutorial. You've built a solid foundation in one of the most powerful tools in the data analysis toolkit.\n",
    "\n",
    "Continue growing your skills by following a few more steps:  \n",
    "\t•\tPractice with real datasets from your organization or Kaggle, data.gov, or open data portals from various organizations  \n",
    "\t•\tTry small projects like analyzing your personal finances, clean a messy spreadsheet, or summarize an organizational dataset  \n",
    "\t•\tRead the Pandas docs: https://pandas.pydata.org/docs/getting_started/index.html  \n",
    "\t•\tJoin the community – Follow discussions on Stack Overflow, Reddit (r/learnpython, r/datascience), or start a conversation in DataDome  \n",
    "\t•\tWatch useful learning videos. Here's a good one: https://www.youtube.com/watch?v=2uvysYbKdjM  \n",
    "\n",
    "Keep experimenting, stay curious, and remember: the best way to master data tools is to use them to answer questions that matter to you."
   ]
  }
 ],
 "metadata": {
  "kernelspec": {
   "display_name": ".pandas_env",
   "language": "python",
   "name": "python3"
  },
  "language_info": {
   "codemirror_mode": {
    "name": "ipython",
    "version": 3
   },
   "file_extension": ".py",
   "mimetype": "text/x-python",
   "name": "python",
   "nbconvert_exporter": "python",
   "pygments_lexer": "ipython3",
   "version": "3.12.4"
  }
 },
 "nbformat": 4,
 "nbformat_minor": 5
}
